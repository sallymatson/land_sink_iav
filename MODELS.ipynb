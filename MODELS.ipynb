{
 "cells": [
  {
   "cell_type": "code",
   "execution_count": 2,
   "metadata": {},
   "outputs": [],
   "source": [
    "import pandas as pd\n",
    "import tensorflow as tf\n",
    "import matplotlib.pyplot as plt\n",
    "import numpy as np\n",
    "\n",
    "from keras.models import Sequential\n",
    "from keras.layers import Dense\n",
    "from keras.layers import LSTM\n",
    "from keras.callbacks import EarlyStopping\n",
    "from sklearn.metrics import mean_squared_error\n",
    "from sklearn import linear_model\n",
    "from math import sqrt\n",
    "\n",
    "from core.data.file_processing import open_all_data, generate_all_monthly_data, inferred_land_sink, all_dgvms_gl\n",
    "from core.data.data_processing import trend\n",
    "from core.modeling import prep_data, define_model_and_train, evaluate_model, baseline, basic_linear_model"
   ]
  },
  {
   "cell_type": "markdown",
   "metadata": {},
   "source": [
    "# Import data "
   ]
  },
  {
   "cell_type": "code",
   "execution_count": 3,
   "metadata": {},
   "outputs": [],
   "source": [
    "df = open_all_data()\n",
    "df_no_na = df.dropna()\n",
    "df_no_na.index = pd.to_datetime(df_no_na.index).to_period(\"M\")\n",
    "df_iav = trend(df_no_na)\n",
    "\n",
    "df_inf = inferred_land_sink()\n",
    "df_inf = df_inf.dropna()\n",
    "df_inf['Inferred_land_sink'] = df_inf['GL_ff_emissions'] \\\n",
    "                             + df_inf['LUC'] \\\n",
    "                             - df_inf['monthly_gr'] \\\n",
    "                             + df_inf['ocean_sink_GL'] # because already negative\n",
    "df_inf['Inferred_land_sink'] = -1 * df_inf['Inferred_land_sink']\n",
    "del df_inf['LUC_blue']\n",
    "df_inf_iav = trend(df_inf)"
   ]
  },
  {
   "cell_type": "code",
   "execution_count": 4,
   "metadata": {},
   "outputs": [],
   "source": [
    "df_iav.columns\n",
    "df_iav_select = df_iav[['land_sink_GL', 'Landtemp_GL', 'Landtemp_TR', 'Pre_GL', 'Pre_TR', 'ENSO']]"
   ]
  },
  {
   "cell_type": "code",
   "execution_count": 5,
   "metadata": {},
   "outputs": [
    {
     "data": {
      "text/html": [
       "<div>\n",
       "<style scoped>\n",
       "    .dataframe tbody tr th:only-of-type {\n",
       "        vertical-align: middle;\n",
       "    }\n",
       "\n",
       "    .dataframe tbody tr th {\n",
       "        vertical-align: top;\n",
       "    }\n",
       "\n",
       "    .dataframe thead th {\n",
       "        text-align: right;\n",
       "    }\n",
       "</style>\n",
       "<table border=\"1\" class=\"dataframe\">\n",
       "  <thead>\n",
       "    <tr style=\"text-align: right;\">\n",
       "      <th></th>\n",
       "      <th>land_sink_GL</th>\n",
       "      <th>Landtemp_GL</th>\n",
       "      <th>Landtemp_TR</th>\n",
       "      <th>Pre_GL</th>\n",
       "      <th>Pre_TR</th>\n",
       "      <th>ENSO</th>\n",
       "      <th>GL_ff_emissions</th>\n",
       "      <th>LUC</th>\n",
       "      <th>monthly_gr</th>\n",
       "      <th>ocean_sink_GL</th>\n",
       "      <th>Inferred_land_sink</th>\n",
       "    </tr>\n",
       "    <tr>\n",
       "      <th>time</th>\n",
       "      <th></th>\n",
       "      <th></th>\n",
       "      <th></th>\n",
       "      <th></th>\n",
       "      <th></th>\n",
       "      <th></th>\n",
       "      <th></th>\n",
       "      <th></th>\n",
       "      <th></th>\n",
       "      <th></th>\n",
       "      <th></th>\n",
       "    </tr>\n",
       "  </thead>\n",
       "  <tbody>\n",
       "    <tr>\n",
       "      <th>1980-02</th>\n",
       "      <td>0.092564</td>\n",
       "      <td>-0.283749</td>\n",
       "      <td>0.449947</td>\n",
       "      <td>67.260871</td>\n",
       "      <td>91.321893</td>\n",
       "      <td>0.5</td>\n",
       "      <td>0.457083</td>\n",
       "      <td>0.053399</td>\n",
       "      <td>0.087450</td>\n",
       "      <td>-0.105787</td>\n",
       "      <td>-0.317245</td>\n",
       "    </tr>\n",
       "    <tr>\n",
       "      <th>1980-03</th>\n",
       "      <td>0.086849</td>\n",
       "      <td>-0.241958</td>\n",
       "      <td>0.427786</td>\n",
       "      <td>67.368384</td>\n",
       "      <td>91.484640</td>\n",
       "      <td>0.3</td>\n",
       "      <td>0.455417</td>\n",
       "      <td>0.053266</td>\n",
       "      <td>0.103350</td>\n",
       "      <td>-0.105750</td>\n",
       "      <td>-0.299584</td>\n",
       "    </tr>\n",
       "    <tr>\n",
       "      <th>1980-04</th>\n",
       "      <td>0.081135</td>\n",
       "      <td>-0.200168</td>\n",
       "      <td>0.405626</td>\n",
       "      <td>67.475897</td>\n",
       "      <td>91.647387</td>\n",
       "      <td>0.4</td>\n",
       "      <td>0.453752</td>\n",
       "      <td>0.053134</td>\n",
       "      <td>0.119250</td>\n",
       "      <td>-0.105713</td>\n",
       "      <td>-0.281922</td>\n",
       "    </tr>\n",
       "    <tr>\n",
       "      <th>1980-05</th>\n",
       "      <td>0.075420</td>\n",
       "      <td>-0.158377</td>\n",
       "      <td>0.383465</td>\n",
       "      <td>67.583410</td>\n",
       "      <td>91.810135</td>\n",
       "      <td>0.5</td>\n",
       "      <td>0.452086</td>\n",
       "      <td>0.053001</td>\n",
       "      <td>0.135150</td>\n",
       "      <td>-0.105676</td>\n",
       "      <td>-0.264261</td>\n",
       "    </tr>\n",
       "    <tr>\n",
       "      <th>1980-06</th>\n",
       "      <td>0.069705</td>\n",
       "      <td>-0.116586</td>\n",
       "      <td>0.361305</td>\n",
       "      <td>67.690923</td>\n",
       "      <td>91.972882</td>\n",
       "      <td>0.5</td>\n",
       "      <td>0.450420</td>\n",
       "      <td>0.052868</td>\n",
       "      <td>0.151050</td>\n",
       "      <td>-0.105639</td>\n",
       "      <td>-0.246600</td>\n",
       "    </tr>\n",
       "    <tr>\n",
       "      <th>...</th>\n",
       "      <td>...</td>\n",
       "      <td>...</td>\n",
       "      <td>...</td>\n",
       "      <td>...</td>\n",
       "      <td>...</td>\n",
       "      <td>...</td>\n",
       "      <td>...</td>\n",
       "      <td>...</td>\n",
       "      <td>...</td>\n",
       "      <td>...</td>\n",
       "      <td>...</td>\n",
       "    </tr>\n",
       "    <tr>\n",
       "      <th>2019-08</th>\n",
       "      <td>-0.115516</td>\n",
       "      <td>1.163805</td>\n",
       "      <td>0.914567</td>\n",
       "      <td>69.557906</td>\n",
       "      <td>93.454402</td>\n",
       "      <td>0.1</td>\n",
       "      <td>0.829802</td>\n",
       "      <td>0.074851</td>\n",
       "      <td>0.436367</td>\n",
       "      <td>-0.167454</td>\n",
       "      <td>-0.300833</td>\n",
       "    </tr>\n",
       "    <tr>\n",
       "      <th>2019-09</th>\n",
       "      <td>-0.112590</td>\n",
       "      <td>1.176326</td>\n",
       "      <td>0.927641</td>\n",
       "      <td>69.428300</td>\n",
       "      <td>93.438218</td>\n",
       "      <td>0.2</td>\n",
       "      <td>0.829934</td>\n",
       "      <td>0.076606</td>\n",
       "      <td>0.467283</td>\n",
       "      <td>-0.168301</td>\n",
       "      <td>-0.270956</td>\n",
       "    </tr>\n",
       "    <tr>\n",
       "      <th>2019-10</th>\n",
       "      <td>-0.109141</td>\n",
       "      <td>1.189851</td>\n",
       "      <td>0.934879</td>\n",
       "      <td>69.458855</td>\n",
       "      <td>93.631625</td>\n",
       "      <td>0.3</td>\n",
       "      <td>0.830060</td>\n",
       "      <td>0.078362</td>\n",
       "      <td>0.491133</td>\n",
       "      <td>-0.168958</td>\n",
       "      <td>-0.248330</td>\n",
       "    </tr>\n",
       "    <tr>\n",
       "      <th>2019-11</th>\n",
       "      <td>-0.104615</td>\n",
       "      <td>1.208962</td>\n",
       "      <td>0.953981</td>\n",
       "      <td>69.459654</td>\n",
       "      <td>93.656285</td>\n",
       "      <td>0.5</td>\n",
       "      <td>0.830181</td>\n",
       "      <td>0.080117</td>\n",
       "      <td>0.492900</td>\n",
       "      <td>-0.169597</td>\n",
       "      <td>-0.247801</td>\n",
       "    </tr>\n",
       "    <tr>\n",
       "      <th>2019-12</th>\n",
       "      <td>-0.097891</td>\n",
       "      <td>1.241797</td>\n",
       "      <td>0.972517</td>\n",
       "      <td>69.229126</td>\n",
       "      <td>93.328383</td>\n",
       "      <td>0.5</td>\n",
       "      <td>0.830282</td>\n",
       "      <td>0.081873</td>\n",
       "      <td>0.472583</td>\n",
       "      <td>-0.170519</td>\n",
       "      <td>-0.269053</td>\n",
       "    </tr>\n",
       "  </tbody>\n",
       "</table>\n",
       "<p>479 rows × 11 columns</p>\n",
       "</div>"
      ],
      "text/plain": [
       "         land_sink_GL  Landtemp_GL  Landtemp_TR     Pre_GL     Pre_TR  ENSO  \\\n",
       "time                                                                          \n",
       "1980-02      0.092564    -0.283749     0.449947  67.260871  91.321893   0.5   \n",
       "1980-03      0.086849    -0.241958     0.427786  67.368384  91.484640   0.3   \n",
       "1980-04      0.081135    -0.200168     0.405626  67.475897  91.647387   0.4   \n",
       "1980-05      0.075420    -0.158377     0.383465  67.583410  91.810135   0.5   \n",
       "1980-06      0.069705    -0.116586     0.361305  67.690923  91.972882   0.5   \n",
       "...               ...          ...          ...        ...        ...   ...   \n",
       "2019-08     -0.115516     1.163805     0.914567  69.557906  93.454402   0.1   \n",
       "2019-09     -0.112590     1.176326     0.927641  69.428300  93.438218   0.2   \n",
       "2019-10     -0.109141     1.189851     0.934879  69.458855  93.631625   0.3   \n",
       "2019-11     -0.104615     1.208962     0.953981  69.459654  93.656285   0.5   \n",
       "2019-12     -0.097891     1.241797     0.972517  69.229126  93.328383   0.5   \n",
       "\n",
       "         GL_ff_emissions       LUC  monthly_gr  ocean_sink_GL  \\\n",
       "time                                                            \n",
       "1980-02         0.457083  0.053399    0.087450      -0.105787   \n",
       "1980-03         0.455417  0.053266    0.103350      -0.105750   \n",
       "1980-04         0.453752  0.053134    0.119250      -0.105713   \n",
       "1980-05         0.452086  0.053001    0.135150      -0.105676   \n",
       "1980-06         0.450420  0.052868    0.151050      -0.105639   \n",
       "...                  ...       ...         ...            ...   \n",
       "2019-08         0.829802  0.074851    0.436367      -0.167454   \n",
       "2019-09         0.829934  0.076606    0.467283      -0.168301   \n",
       "2019-10         0.830060  0.078362    0.491133      -0.168958   \n",
       "2019-11         0.830181  0.080117    0.492900      -0.169597   \n",
       "2019-12         0.830282  0.081873    0.472583      -0.170519   \n",
       "\n",
       "         Inferred_land_sink  \n",
       "time                         \n",
       "1980-02           -0.317245  \n",
       "1980-03           -0.299584  \n",
       "1980-04           -0.281922  \n",
       "1980-05           -0.264261  \n",
       "1980-06           -0.246600  \n",
       "...                     ...  \n",
       "2019-08           -0.300833  \n",
       "2019-09           -0.270956  \n",
       "2019-10           -0.248330  \n",
       "2019-11           -0.247801  \n",
       "2019-12           -0.269053  \n",
       "\n",
       "[479 rows x 11 columns]"
      ]
     },
     "execution_count": 5,
     "metadata": {},
     "output_type": "execute_result"
    }
   ],
   "source": [
    "df_all = df_iav_select[1:].merge(df_inf_iav, left_index=True, right_index=True)\n",
    "df_all"
   ]
  },
  {
   "cell_type": "code",
   "execution_count": 6,
   "metadata": {},
   "outputs": [],
   "source": [
    "# Select data\n",
    "dependent_variable = 'Inferred_land_sink'\n",
    "independent_variables = ['Landtemp_GL',\n",
    "                         'Pre_GL',\n",
    "                         'GL_ff_emissions',\n",
    "                         'LUC'\n",
    "                        ]\n",
    "\n",
    "variables = [dependent_variable] + independent_variables\n",
    "df_use = df_all[variables]"
   ]
  },
  {
   "cell_type": "code",
   "execution_count": null,
   "metadata": {},
   "outputs": [],
   "source": [
    "def prep_data(df_in, dependent_variable, train_p_l=0, train_p=0.7, val_p=0.85, test_p=1):\n",
    "    # train_p is the percent of data used in train, \n",
    "    # val_p is how much more is used in the val set\n",
    "    df = df_in.copy()\n",
    "    \n",
    "    # DEFINE TARGET USING WINDOW SHIFT\n",
    "    df['y'] = df[dependent_variable].shift(-1)\n",
    "    df = df.dropna()\n",
    "    del df[dependent_variable]\n",
    "    \n",
    "    # SPLIT INTO TRAIN, VAL, AND TEST\n",
    "    n = len(df)\n",
    "    train_df = df[int(n*train_p_l):int(n*train_p)]\n",
    "    val_df = df[int(n*train_p):int(n*val_p)]\n",
    "    test_df = df[int(n*val_p):int(n*test_p)]\n",
    "    num_features = df.shape[1]\n",
    "    print(\"There are {} in the training set, {} for val, and {} for testing.\"\n",
    "          .format(len(train_df), len(val_df), len(test_df)))\n",
    "    \n",
    "    # NORMALIZE\n",
    "    # The mean and standard deviation should only be computed using \n",
    "    # the training data so that the models have no access to the values \n",
    "    #     in the validation and test sets\n",
    "    train_mean = train_df.mean()\n",
    "    train_std = train_df.std()\n",
    "    train_df = (train_df - train_mean) / train_std\n",
    "    val_df = (val_df - train_mean) / train_std\n",
    "    test_df = (test_df - train_mean) / train_std\n",
    "    \n",
    "    # DEFINE TARGET USING WINDOW SHIFT\n",
    "    train_y = train_df.pop('y')\n",
    "    val_y = val_df.pop('y')\n",
    "    test_y = test_df.pop('y')\n",
    "        \n",
    "    # RESHAPE\n",
    "    # LSTM expects format of [samples, timestep, features]\n",
    "    # Here, the shape is for a single-step model which predicts a single feature's value \n",
    "    # one timestep in the future based on current conditions.\n",
    "    train_X = train_df.values.reshape((train_df.shape[0], 1, train_df.shape[1]))\n",
    "    val_X = val_df.values.reshape((val_df.shape[0], 1, val_df.shape[1]))\n",
    "    test_X = test_df.values.reshape((test_df.shape[0], 1, test_df.shape[1]))\n",
    "    \n",
    "    return train_X, val_X, test_X, train_y, val_y, test_y"
   ]
  },
  {
   "cell_type": "code",
   "execution_count": null,
   "metadata": {},
   "outputs": [],
   "source": [
    "def define_model_and_train(train_X, train_y, val_X, val_y):\n",
    "\n",
    "    callback = EarlyStopping(monitor='val_loss', patience=10, restore_best_weights=True, verbose=1)\n",
    "    \n",
    "    # design network\n",
    "    model = Sequential()\n",
    "    model.add(LSTM(50, input_shape=(train_X.shape[1], train_X.shape[2]), return_sequences=True, activation='relu'))\n",
    "    model.add(LSTM(50, return_sequences=False, activation='relu'))\n",
    "    model.add(Dense(1))\n",
    "    model.compile(loss='mse', optimizer='adam')\n",
    "    # fit network\n",
    "    history = model.fit(train_X, train_y,\n",
    "                        epochs=50,\n",
    "                        batch_size=12,\n",
    "                        validation_data=(val_X, val_y),\n",
    "                        verbose=0,\n",
    "                        shuffle=False,\n",
    "                        callbacks=[callback])\n",
    "    # plot history\n",
    "    plt.plot(history.history['loss'], label='train')\n",
    "    plt.plot(history.history['val_loss'], label='val')\n",
    "    plt.legend()\n",
    "    plt.show()\n",
    "    return model\n",
    "\n",
    "\n",
    "def evaluate_model(model, test_X, test_y):\n",
    "\t# todo: invert scaling for forecast\n",
    "\t# calculate RMSE\n",
    "\tyhat = model.predict(test_X)\n",
    "\trmse = sqrt(mean_squared_error(test_y, yhat))\n",
    "\tprint('Test RMSE: %.3f' % rmse)\n",
    "\t# plot the results\n",
    "\tresults = pd.DataFrame(index=test_y.index)\n",
    "\tresults['observed'] = test_y\n",
    "\tresults['predicted'] = yhat\n",
    "\tresults.plot()"
   ]
  },
  {
   "cell_type": "code",
   "execution_count": null,
   "metadata": {},
   "outputs": [],
   "source": [
    "# train test splits\n",
    "train_X, val_X, test_X, train_y, val_y, test_y = prep_data(df_use, dependent_variable, 0, 0.5, 0.7, 0.8)\n",
    "model = define_model_and_train(train_X, train_y, val_X, val_y)\n",
    "evaluate_model(model, test_X, test_y)\n",
    "\n",
    "train_X, val_X, test_X, train_y, val_y, test_y = prep_data(df_use, dependent_variable, 0.1, 0.6, 0.8, 0.9)\n",
    "model = define_model_and_train(train_X, train_y, val_X, val_y)\n",
    "evaluate_model(model, test_X, test_y)\n",
    "\n",
    "train_X, val_X, test_X, train_y, val_y, test_y = prep_data(df_use, dependent_variable, 0.2, 0.7, 0.9, 1)\n",
    "model = define_model_and_train(train_X, train_y, val_X, val_y)\n",
    "evaluate_model(model, test_X, test_y)\n"
   ]
  },
  {
   "cell_type": "code",
   "execution_count": null,
   "metadata": {
    "scrolled": false
   },
   "outputs": [],
   "source": [
    "train_X, val_X, test_X, train_y, val_y, test_y = prep_data(df_use, dependent_variable)\n",
    "model = define_model_and_train(train_X, train_y, val_X, val_y)\n",
    "evaluate_model(model, test_X, test_y)"
   ]
  },
  {
   "cell_type": "code",
   "execution_count": null,
   "metadata": {},
   "outputs": [],
   "source": [
    "def baseline(test_X, test_y):\n",
    "\tyhat = test_y.shift(1) # This returns the prediction as the previous value.\n",
    "\tyhat[0] = yhat[1]\n",
    "\trmse = sqrt(mean_squared_error(test_y, yhat))\n",
    "\tprint('Test RMSE: %.3f' % rmse)\n",
    "\tresults = pd.DataFrame(index=test_y.index)\n",
    "\tresults['observed'] = test_y\n",
    "\tresults['predicted'] = yhat\n",
    "\tresults.plot()\n",
    "\n",
    "\n",
    "def basic_linear_model(train_X, train_y, test_X, test_y):\n",
    "\treg = linear_model.LinearRegression()\n",
    "\treg.fit(train_X.reshape(train_X.shape[0],train_X.shape[2]), train_y)\n",
    "\tyhat = reg.predict(test_X.reshape(test_X.shape[0],test_X.shape[2]))\n",
    "\trmse = sqrt(mean_squared_error(test_y, yhat))\n",
    "\tprint('Test RMSE: %.3f' % rmse)\n",
    "\tresults = pd.DataFrame(index=test_y.index)\n",
    "\tresults['observed'] = test_y\n",
    "\tresults['predicted'] = yhat\n",
    "\tresults.plot()\n"
   ]
  },
  {
   "cell_type": "code",
   "execution_count": null,
   "metadata": {},
   "outputs": [],
   "source": [
    "baseline(test_X, test_y)"
   ]
  },
  {
   "cell_type": "code",
   "execution_count": null,
   "metadata": {},
   "outputs": [],
   "source": [
    "basic_linear_model(train_X, train_y, test_X, test_y)"
   ]
  },
  {
   "cell_type": "code",
   "execution_count": null,
   "metadata": {},
   "outputs": [],
   "source": []
  },
  {
   "cell_type": "code",
   "execution_count": null,
   "metadata": {},
   "outputs": [],
   "source": []
  },
  {
   "cell_type": "code",
   "execution_count": null,
   "metadata": {},
   "outputs": [],
   "source": []
  },
  {
   "cell_type": "code",
   "execution_count": 19,
   "metadata": {},
   "outputs": [],
   "source": [
    "df = df_use.copy()"
   ]
  },
  {
   "cell_type": "code",
   "execution_count": 20,
   "metadata": {},
   "outputs": [
    {
     "data": {
      "text/html": [
       "<div>\n",
       "<style scoped>\n",
       "    .dataframe tbody tr th:only-of-type {\n",
       "        vertical-align: middle;\n",
       "    }\n",
       "\n",
       "    .dataframe tbody tr th {\n",
       "        vertical-align: top;\n",
       "    }\n",
       "\n",
       "    .dataframe thead th {\n",
       "        text-align: right;\n",
       "    }\n",
       "</style>\n",
       "<table border=\"1\" class=\"dataframe\">\n",
       "  <thead>\n",
       "    <tr style=\"text-align: right;\">\n",
       "      <th></th>\n",
       "      <th>Inferred_land_sink</th>\n",
       "      <th>Landtemp_GL</th>\n",
       "      <th>Pre_GL</th>\n",
       "      <th>GL_ff_emissions</th>\n",
       "      <th>LUC</th>\n",
       "    </tr>\n",
       "    <tr>\n",
       "      <th>time</th>\n",
       "      <th></th>\n",
       "      <th></th>\n",
       "      <th></th>\n",
       "      <th></th>\n",
       "      <th></th>\n",
       "    </tr>\n",
       "  </thead>\n",
       "  <tbody>\n",
       "    <tr>\n",
       "      <th>1980-02</th>\n",
       "      <td>-0.317245</td>\n",
       "      <td>-0.283749</td>\n",
       "      <td>67.260871</td>\n",
       "      <td>0.457083</td>\n",
       "      <td>0.053399</td>\n",
       "    </tr>\n",
       "    <tr>\n",
       "      <th>1980-03</th>\n",
       "      <td>-0.299584</td>\n",
       "      <td>-0.241958</td>\n",
       "      <td>67.368384</td>\n",
       "      <td>0.455417</td>\n",
       "      <td>0.053266</td>\n",
       "    </tr>\n",
       "    <tr>\n",
       "      <th>1980-04</th>\n",
       "      <td>-0.281922</td>\n",
       "      <td>-0.200168</td>\n",
       "      <td>67.475897</td>\n",
       "      <td>0.453752</td>\n",
       "      <td>0.053134</td>\n",
       "    </tr>\n",
       "    <tr>\n",
       "      <th>1980-05</th>\n",
       "      <td>-0.264261</td>\n",
       "      <td>-0.158377</td>\n",
       "      <td>67.583410</td>\n",
       "      <td>0.452086</td>\n",
       "      <td>0.053001</td>\n",
       "    </tr>\n",
       "    <tr>\n",
       "      <th>1980-06</th>\n",
       "      <td>-0.246600</td>\n",
       "      <td>-0.116586</td>\n",
       "      <td>67.690923</td>\n",
       "      <td>0.450420</td>\n",
       "      <td>0.052868</td>\n",
       "    </tr>\n",
       "    <tr>\n",
       "      <th>...</th>\n",
       "      <td>...</td>\n",
       "      <td>...</td>\n",
       "      <td>...</td>\n",
       "      <td>...</td>\n",
       "      <td>...</td>\n",
       "    </tr>\n",
       "    <tr>\n",
       "      <th>2019-08</th>\n",
       "      <td>-0.300833</td>\n",
       "      <td>1.163805</td>\n",
       "      <td>69.557906</td>\n",
       "      <td>0.829802</td>\n",
       "      <td>0.074851</td>\n",
       "    </tr>\n",
       "    <tr>\n",
       "      <th>2019-09</th>\n",
       "      <td>-0.270956</td>\n",
       "      <td>1.176326</td>\n",
       "      <td>69.428300</td>\n",
       "      <td>0.829934</td>\n",
       "      <td>0.076606</td>\n",
       "    </tr>\n",
       "    <tr>\n",
       "      <th>2019-10</th>\n",
       "      <td>-0.248330</td>\n",
       "      <td>1.189851</td>\n",
       "      <td>69.458855</td>\n",
       "      <td>0.830060</td>\n",
       "      <td>0.078362</td>\n",
       "    </tr>\n",
       "    <tr>\n",
       "      <th>2019-11</th>\n",
       "      <td>-0.247801</td>\n",
       "      <td>1.208962</td>\n",
       "      <td>69.459654</td>\n",
       "      <td>0.830181</td>\n",
       "      <td>0.080117</td>\n",
       "    </tr>\n",
       "    <tr>\n",
       "      <th>2019-12</th>\n",
       "      <td>-0.269053</td>\n",
       "      <td>1.241797</td>\n",
       "      <td>69.229126</td>\n",
       "      <td>0.830282</td>\n",
       "      <td>0.081873</td>\n",
       "    </tr>\n",
       "  </tbody>\n",
       "</table>\n",
       "<p>479 rows × 5 columns</p>\n",
       "</div>"
      ],
      "text/plain": [
       "         Inferred_land_sink  Landtemp_GL     Pre_GL  GL_ff_emissions       LUC\n",
       "time                                                                          \n",
       "1980-02           -0.317245    -0.283749  67.260871         0.457083  0.053399\n",
       "1980-03           -0.299584    -0.241958  67.368384         0.455417  0.053266\n",
       "1980-04           -0.281922    -0.200168  67.475897         0.453752  0.053134\n",
       "1980-05           -0.264261    -0.158377  67.583410         0.452086  0.053001\n",
       "1980-06           -0.246600    -0.116586  67.690923         0.450420  0.052868\n",
       "...                     ...          ...        ...              ...       ...\n",
       "2019-08           -0.300833     1.163805  69.557906         0.829802  0.074851\n",
       "2019-09           -0.270956     1.176326  69.428300         0.829934  0.076606\n",
       "2019-10           -0.248330     1.189851  69.458855         0.830060  0.078362\n",
       "2019-11           -0.247801     1.208962  69.459654         0.830181  0.080117\n",
       "2019-12           -0.269053     1.241797  69.229126         0.830282  0.081873\n",
       "\n",
       "[479 rows x 5 columns]"
      ]
     },
     "execution_count": 20,
     "metadata": {},
     "output_type": "execute_result"
    }
   ],
   "source": [
    "df"
   ]
  },
  {
   "cell_type": "code",
   "execution_count": null,
   "metadata": {},
   "outputs": [],
   "source": []
  },
  {
   "cell_type": "code",
   "execution_count": 21,
   "metadata": {},
   "outputs": [],
   "source": [
    "column_indices = {name: i for i, name in enumerate(df.columns)}\n",
    "\n",
    "n = len(df)\n",
    "train_df = df[0:int(n*0.7)]\n",
    "val_df = df[int(n*0.7):int(n*0.9)]\n",
    "test_df = df[int(n*0.9):]\n",
    "\n",
    "num_features = df.shape[1]"
   ]
  },
  {
   "cell_type": "code",
   "execution_count": 22,
   "metadata": {},
   "outputs": [],
   "source": [
    "train_mean = train_df.mean()\n",
    "train_std = train_df.std()\n",
    "\n",
    "train_df = (train_df - train_mean) / train_std\n",
    "val_df = (val_df - train_mean) / train_std\n",
    "test_df = (test_df - train_mean) / train_std"
   ]
  },
  {
   "cell_type": "code",
   "execution_count": 62,
   "metadata": {},
   "outputs": [],
   "source": [
    "class WindowGenerator():\n",
    "    def __init__(self, input_width, label_width, shift,\n",
    "                 train_df, val_df, test_df,\n",
    "                 label_columns=None):\n",
    "        # Store the raw data.\n",
    "        self.train_df = train_df\n",
    "        self.val_df = val_df\n",
    "        self.test_df = test_df\n",
    "\n",
    "        # Work out the label column indices.\n",
    "        self.label_columns = label_columns\n",
    "        if label_columns is not None:\n",
    "            self.label_columns_indices = {name: i for i, name in\n",
    "                                          enumerate(label_columns)}\n",
    "        self.column_indices = {name: i for i, name in\n",
    "                               enumerate(train_df.columns)}\n",
    "\n",
    "        # Work out the window parameters.\n",
    "        self.input_width = input_width\n",
    "        self.label_width = label_width\n",
    "        self.shift = shift\n",
    "\n",
    "        self.total_window_size = input_width + shift\n",
    "\n",
    "        self.input_slice = slice(0, input_width)\n",
    "        self.input_indices = np.arange(self.total_window_size)[self.input_slice]\n",
    "\n",
    "        self.label_start = self.total_window_size - self.label_width\n",
    "        self.labels_slice = slice(self.label_start, None)\n",
    "        self.label_indices = np.arange(self.total_window_size)[self.labels_slice]\n",
    "\n",
    "    def __repr__(self):\n",
    "        return '\\n'.join([\n",
    "            f'Total window size: {self.total_window_size}',\n",
    "            f'Input indices: {self.input_indices}',\n",
    "            f'Label indices: {self.label_indices}',\n",
    "            f'Label column name(s): {self.label_columns}'])\n",
    "\n",
    "    def split_window(self, features):\n",
    "        inputs = features[:, self.input_slice, :]\n",
    "        labels = features[:, self.labels_slice, :]\n",
    "        if self.label_columns is not None:\n",
    "            labels = tf.stack(\n",
    "              [labels[:, :, self.column_indices[name]] for name in self.label_columns],\n",
    "              axis=-1)\n",
    "\n",
    "        # Slicing doesn't preserve static shape information, so set the shapes\n",
    "        # manually. This way the `tf.data.Datasets` are easier to inspect.\n",
    "        inputs.set_shape([None, self.input_width, None])\n",
    "        labels.set_shape([None, self.label_width, None])\n",
    "\n",
    "        return inputs, labels\n",
    "    \n",
    "    \n",
    "    def plot(self, model=None, plot_col='Inferred_land_sink', max_subplots=3):\n",
    "        inputs, labels = self.example\n",
    "        plt.figure(figsize=(12, 8))\n",
    "        plot_col_index = self.column_indices[plot_col]\n",
    "        max_n = min(max_subplots, len(inputs))\n",
    "        for n in range(max_n):\n",
    "            plt.subplot(max_n, 1, n+1)\n",
    "            plt.ylabel(f'{plot_col} [normed]')\n",
    "            plt.plot(self.input_indices, inputs[n, :, plot_col_index],\n",
    "                     label='Inputs', marker='.', zorder=-10)\n",
    "\n",
    "            if self.label_columns:\n",
    "                label_col_index = self.label_columns_indices.get(plot_col, None)\n",
    "            else:\n",
    "                label_col_index = plot_col_index\n",
    "\n",
    "            if label_col_index is None:\n",
    "                continue\n",
    "        \n",
    "            plt.scatter(self.label_indices, labels[n, :, label_col_index],\n",
    "                        edgecolors='k', label='Labels', c='#2ca02c', s=64)\n",
    "            if model is not None:\n",
    "                predictions = model(inputs)\n",
    "                plt.scatter(self.label_indices, predictions[n, :, label_col_index],\n",
    "                            marker='X', edgecolors='k', label='Predictions',\n",
    "                            c='#ff7f0e', s=64)\n",
    "\n",
    "            if n == 0:\n",
    "                plt.legend()\n",
    "\n",
    "        plt.xlabel('Months')\n",
    "        \n",
    "    def make_dataset(self, data):\n",
    "        data = np.array(data, dtype=np.float32)\n",
    "        ds = tf.keras.preprocessing.timeseries_dataset_from_array(\n",
    "            data=data,\n",
    "            targets=None,\n",
    "            sequence_length=self.total_window_size,\n",
    "            sequence_stride=1, # Period between successive output sequences. \n",
    "            shuffle=True,\n",
    "            batch_size=32,)\n",
    "\n",
    "        ds = ds.map(self.split_window)\n",
    "\n",
    "        return ds\n",
    "    \n",
    "    @property\n",
    "    def train(self):\n",
    "        return self.make_dataset(self.train_df)\n",
    "\n",
    "    @property\n",
    "    def val(self):\n",
    "        return self.make_dataset(self.val_df)\n",
    "\n",
    "    @property\n",
    "    def test(self):\n",
    "        return self.make_dataset(self.test_df)\n",
    "\n",
    "    @property\n",
    "    def example(self):\n",
    "        \"\"\"Get and cache an example batch of `inputs, labels` for plotting.\"\"\"\n",
    "        result = getattr(self, '_example', None)\n",
    "        if result is None:\n",
    "            # No example batch was found, so get one from the `.train` dataset\n",
    "            result = next(iter(self.train))\n",
    "            # And cache it for next time\n",
    "            self._example = result\n",
    "        return result        "
   ]
  },
  {
   "cell_type": "code",
   "execution_count": 63,
   "metadata": {},
   "outputs": [],
   "source": [
    "class Baseline(tf.keras.Model):\n",
    "    def __init__(self, label_index=None):\n",
    "        super().__init__()\n",
    "        self.label_index = label_index\n",
    "\n",
    "    def call(self, inputs):\n",
    "        if self.label_index is None:\n",
    "            return inputs\n",
    "        result = inputs[:, :, self.label_index]\n",
    "        return result[:, :, tf.newaxis]"
   ]
  },
  {
   "cell_type": "code",
   "execution_count": 64,
   "metadata": {},
   "outputs": [],
   "source": [
    "MAX_EPOCHS = 20\n",
    "\n",
    "def compile_and_fit(model, window, patience=2):\n",
    "    early_stopping = tf.keras.callbacks.EarlyStopping(monitor='val_loss',\n",
    "                                                      patience=patience,\n",
    "                                                      mode='min')\n",
    "\n",
    "    model.compile(loss=tf.losses.MeanSquaredError(),\n",
    "                  optimizer=tf.optimizers.Adam(),\n",
    "                  metrics=[tf.metrics.MeanAbsoluteError()])\n",
    "\n",
    "    history = model.fit(window.train, epochs=MAX_EPOCHS,\n",
    "                        validation_data=window.val,\n",
    "                        callbacks=[early_stopping])\n",
    "    return history"
   ]
  },
  {
   "cell_type": "code",
   "execution_count": null,
   "metadata": {},
   "outputs": [],
   "source": []
  },
  {
   "cell_type": "code",
   "execution_count": null,
   "metadata": {},
   "outputs": [],
   "source": []
  },
  {
   "cell_type": "code",
   "execution_count": null,
   "metadata": {},
   "outputs": [],
   "source": []
  },
  {
   "cell_type": "code",
   "execution_count": 65,
   "metadata": {},
   "outputs": [
    {
     "data": {
      "text/plain": [
       "Total window size: 2\n",
       "Input indices: [0]\n",
       "Label indices: [1]\n",
       "Label column name(s): ['Inferred_land_sink']"
      ]
     },
     "execution_count": 65,
     "metadata": {},
     "output_type": "execute_result"
    }
   ],
   "source": [
    "single_step_window = WindowGenerator(\n",
    "    input_width=1, label_width=1, shift=1,\n",
    "    train_df=train_df, val_df=val_df, test_df=test_df,\n",
    "    label_columns=['Inferred_land_sink'])\n",
    "single_step_window"
   ]
  },
  {
   "cell_type": "code",
   "execution_count": 66,
   "metadata": {
    "scrolled": true
   },
   "outputs": [
    {
     "name": "stdout",
     "output_type": "stream",
     "text": [
      "Inputs shape (batch, time, features): (32, 1, 5)\n",
      "Labels shape (batch, time, features): (32, 1, 1)\n"
     ]
    }
   ],
   "source": [
    "for example_inputs, example_labels in single_step_window.train.take(1):\n",
    "    print(f'Inputs shape (batch, time, features): {example_inputs.shape}')\n",
    "    print(f'Labels shape (batch, time, features): {example_labels.shape}')"
   ]
  },
  {
   "cell_type": "code",
   "execution_count": 67,
   "metadata": {},
   "outputs": [
    {
     "name": "stdout",
     "output_type": "stream",
     "text": [
      "3/3 [==============================] - 0s 2ms/step - loss: 0.0658 - mean_absolute_error: 0.1928\n"
     ]
    }
   ],
   "source": [
    "baseline = Baseline(label_index=column_indices['Inferred_land_sink'])\n",
    "\n",
    "baseline.compile(loss=tf.losses.MeanSquaredError(),\n",
    "                 metrics=[tf.metrics.MeanAbsoluteError()])\n",
    "\n",
    "val_performance = {}\n",
    "performance = {}\n",
    "val_performance['Baseline'] = baseline.evaluate(single_step_window.val)\n",
    "performance['Baseline'] = baseline.evaluate(single_step_window.test, verbose=0)"
   ]
  },
  {
   "cell_type": "code",
   "execution_count": 68,
   "metadata": {},
   "outputs": [
    {
     "data": {
      "text/plain": [
       "Total window size: 25\n",
       "Input indices: [ 0  1  2  3  4  5  6  7  8  9 10 11 12 13 14 15 16 17 18 19 20 21 22 23]\n",
       "Label indices: [ 1  2  3  4  5  6  7  8  9 10 11 12 13 14 15 16 17 18 19 20 21 22 23 24]\n",
       "Label column name(s): ['Inferred_land_sink']"
      ]
     },
     "execution_count": 68,
     "metadata": {},
     "output_type": "execute_result"
    }
   ],
   "source": [
    "wide_window = WindowGenerator(\n",
    "    input_width=24, label_width=24, shift=1,\n",
    "    train_df=train_df, val_df=val_df, test_df=test_df,\n",
    "    label_columns=['Inferred_land_sink'])\n",
    "\n",
    "wide_window"
   ]
  },
  {
   "cell_type": "code",
   "execution_count": 69,
   "metadata": {},
   "outputs": [
    {
     "data": {
      "image/png": "[encoded data removed]",
      "text/plain": [
       "<Figure size 864x576 with 3 Axes>"
      ]
     },
     "metadata": {
      "needs_background": "light"
     },
     "output_type": "display_data"
    }
   ],
   "source": [
    "wide_window.plot(baseline)"
   ]
  },
  {
   "cell_type": "code",
   "execution_count": 70,
   "metadata": {},
   "outputs": [],
   "source": [
    "linear = tf.keras.Sequential([\n",
    "    tf.keras.layers.Dense(units=1)\n",
    "])"
   ]
  },
  {
   "cell_type": "code",
   "execution_count": 75,
   "metadata": {},
   "outputs": [
    {
     "name": "stdout",
     "output_type": "stream",
     "text": [
      "Epoch 1/20\n",
      "11/11 [==============================] - 0s 14ms/step - loss: 1.6474 - mean_absolute_error: 1.0206 - val_loss: 1.6249 - val_mean_absolute_error: 1.0158\n",
      "Epoch 2/20\n",
      "11/11 [==============================] - 0s 6ms/step - loss: 1.5789 - mean_absolute_error: 1.0002 - val_loss: 1.7270 - val_mean_absolute_error: 1.0487\n",
      "Epoch 3/20\n",
      "11/11 [==============================] - 0s 6ms/step - loss: 1.5163 - mean_absolute_error: 0.9811 - val_loss: 1.8321 - val_mean_absolute_error: 1.0833\n",
      "3/3 [==============================] - 0s 1ms/step - loss: 1.8321 - mean_absolute_error: 1.0833\n"
     ]
    }
   ],
   "source": [
    "history = compile_and_fit(linear, single_step_window)\n",
    "\n",
    "val_performance['Linear'] = linear.evaluate(single_step_window.val)\n",
    "performance['Linear'] = linear.evaluate(single_step_window.test, verbose=0)"
   ]
  },
  {
   "cell_type": "code",
   "execution_count": 76,
   "metadata": {},
   "outputs": [
    {
     "data": {
      "image/png": "[encoded data removed]",
      "text/plain": [
       "<Figure size 864x576 with 3 Axes>"
      ]
     },
     "metadata": {
      "needs_background": "light"
     },
     "output_type": "display_data"
    }
   ],
   "source": [
    "wide_window.plot(linear)"
   ]
  },
  {
   "cell_type": "code",
   "execution_count": 77,
   "metadata": {},
   "outputs": [
    {
     "data": {
      "image/png": "[encoded data removed]",
      "text/plain": [
       "<Figure size 432x288 with 1 Axes>"
      ]
     },
     "metadata": {
      "needs_background": "light"
     },
     "output_type": "display_data"
    }
   ],
   "source": [
    "plt.bar(x = range(len(train_df.columns)),\n",
    "        height=linear.layers[0].kernel[:,0].numpy())\n",
    "axis = plt.gca()\n",
    "axis.set_xticks(range(len(train_df.columns)))\n",
    "_ = axis.set_xticklabels(train_df.columns, rotation=90)"
   ]
  },
  {
   "cell_type": "code",
   "execution_count": 78,
   "metadata": {},
   "outputs": [
    {
     "name": "stdout",
     "output_type": "stream",
     "text": [
      "Epoch 1/20\n",
      "11/11 [==============================] - 1s 17ms/step - loss: 1.0856 - mean_absolute_error: 0.8212 - val_loss: 0.5025 - val_mean_absolute_error: 0.5820\n",
      "Epoch 2/20\n",
      "11/11 [==============================] - 0s 8ms/step - loss: 0.5211 - mean_absolute_error: 0.5552 - val_loss: 0.2808 - val_mean_absolute_error: 0.3990\n",
      "Epoch 3/20\n",
      "11/11 [==============================] - 0s 6ms/step - loss: 0.2533 - mean_absolute_error: 0.3788 - val_loss: 0.2741 - val_mean_absolute_error: 0.4021\n",
      "Epoch 4/20\n",
      "11/11 [==============================] - 0s 6ms/step - loss: 0.1225 - mean_absolute_error: 0.2634 - val_loss: 0.1803 - val_mean_absolute_error: 0.3257\n",
      "Epoch 5/20\n",
      "11/11 [==============================] - 0s 7ms/step - loss: 0.0860 - mean_absolute_error: 0.2242 - val_loss: 0.2311 - val_mean_absolute_error: 0.3996\n",
      "Epoch 6/20\n",
      "11/11 [==============================] - 0s 7ms/step - loss: 0.0805 - mean_absolute_error: 0.2211 - val_loss: 0.3160 - val_mean_absolute_error: 0.4883\n",
      "3/3 [==============================] - 0s 1ms/step - loss: 0.3160 - mean_absolute_error: 0.4883\n"
     ]
    }
   ],
   "source": [
    "dense = tf.keras.Sequential([\n",
    "    tf.keras.layers.Dense(units=64, activation='relu'),\n",
    "    tf.keras.layers.Dense(units=64, activation='relu'),\n",
    "    tf.keras.layers.Dense(units=1)\n",
    "])\n",
    "\n",
    "history = compile_and_fit(dense, single_step_window)\n",
    "\n",
    "val_performance['Dense'] = dense.evaluate(single_step_window.val)\n",
    "performance['Dense'] = dense.evaluate(single_step_window.test, verbose=0)"
   ]
  },
  {
   "cell_type": "code",
   "execution_count": 80,
   "metadata": {},
   "outputs": [],
   "source": [
    "lstm_model = tf.keras.models.Sequential([\n",
    "    # Shape [batch, time, features] => [batch, time, lstm_units]\n",
    "    tf.keras.layers.LSTM(32, return_sequences=True),\n",
    "    # Shape => [batch, time, features]\n",
    "    tf.keras.layers.Dense(units=1)\n",
    "])"
   ]
  },
  {
   "cell_type": "code",
   "execution_count": 81,
   "metadata": {},
   "outputs": [
    {
     "name": "stdout",
     "output_type": "stream",
     "text": [
      "Input shape: (32, 24, 5)\n",
      "Output shape: (32, 24, 1)\n"
     ]
    }
   ],
   "source": [
    "print('Input shape:', wide_window.example[0].shape)\n",
    "print('Output shape:', lstm_model(wide_window.example[0]).shape)"
   ]
  },
  {
   "cell_type": "code",
   "execution_count": 82,
   "metadata": {},
   "outputs": [
    {
     "name": "stdout",
     "output_type": "stream",
     "text": [
      "Epoch 1/20\n",
      "10/10 [==============================] - 2s 47ms/step - loss: 0.7286 - mean_absolute_error: 0.6624 - val_loss: 1.0344 - val_mean_absolute_error: 0.9013\n",
      "Epoch 2/20\n",
      "10/10 [==============================] - 0s 13ms/step - loss: 0.5365 - mean_absolute_error: 0.5568 - val_loss: 0.8023 - val_mean_absolute_error: 0.7892\n",
      "Epoch 3/20\n",
      "10/10 [==============================] - 0s 12ms/step - loss: 0.4147 - mean_absolute_error: 0.4843 - val_loss: 0.5538 - val_mean_absolute_error: 0.6439\n",
      "Epoch 4/20\n",
      "10/10 [==============================] - 0s 12ms/step - loss: 0.3468 - mean_absolute_error: 0.4468 - val_loss: 0.4012 - val_mean_absolute_error: 0.5285\n",
      "Epoch 5/20\n",
      "10/10 [==============================] - 0s 11ms/step - loss: 0.2971 - mean_absolute_error: 0.4154 - val_loss: 0.2941 - val_mean_absolute_error: 0.4352\n",
      "Epoch 6/20\n",
      "10/10 [==============================] - 0s 12ms/step - loss: 0.2616 - mean_absolute_error: 0.3887 - val_loss: 0.2525 - val_mean_absolute_error: 0.3942\n",
      "Epoch 7/20\n",
      "10/10 [==============================] - 0s 11ms/step - loss: 0.2342 - mean_absolute_error: 0.3644 - val_loss: 0.2324 - val_mean_absolute_error: 0.3712\n",
      "Epoch 8/20\n",
      "10/10 [==============================] - 0s 12ms/step - loss: 0.2134 - mean_absolute_error: 0.3450 - val_loss: 0.2220 - val_mean_absolute_error: 0.3599\n",
      "Epoch 9/20\n",
      "10/10 [==============================] - 0s 11ms/step - loss: 0.1966 - mean_absolute_error: 0.3289 - val_loss: 0.2179 - val_mean_absolute_error: 0.3540\n",
      "Epoch 10/20\n",
      "10/10 [==============================] - 0s 12ms/step - loss: 0.1843 - mean_absolute_error: 0.3164 - val_loss: 0.2154 - val_mean_absolute_error: 0.3502\n",
      "Epoch 11/20\n",
      "10/10 [==============================] - 0s 11ms/step - loss: 0.1750 - mean_absolute_error: 0.3076 - val_loss: 0.2217 - val_mean_absolute_error: 0.3539\n",
      "Epoch 12/20\n",
      "10/10 [==============================] - 0s 12ms/step - loss: 0.1675 - mean_absolute_error: 0.3003 - val_loss: 0.2279 - val_mean_absolute_error: 0.3579\n",
      "3/3 [==============================] - 0s 2ms/step - loss: 0.2279 - mean_absolute_error: 0.3579\n"
     ]
    }
   ],
   "source": [
    "history = compile_and_fit(lstm_model, wide_window)\n",
    "\n",
    "val_performance['LSTM'] = lstm_model.evaluate(wide_window.val)\n",
    "performance['LSTM'] = lstm_model.evaluate(wide_window.test, verbose=0)"
   ]
  },
  {
   "cell_type": "code",
   "execution_count": 83,
   "metadata": {},
   "outputs": [
    {
     "data": {
      "image/png": "[encoded data removed]",
      "text/plain": [
       "<Figure size 864x576 with 3 Axes>"
      ]
     },
     "metadata": {
      "needs_background": "light"
     },
     "output_type": "display_data"
    }
   ],
   "source": [
    "wide_window.plot(lstm_model)"
   ]
  },
  {
   "cell_type": "code",
   "execution_count": 84,
   "metadata": {},
   "outputs": [
    {
     "data": {
      "image/png": "[encoded data removed]",
      "text/plain": [
       "<Figure size 432x288 with 1 Axes>"
      ]
     },
     "metadata": {
      "needs_background": "light"
     },
     "output_type": "display_data"
    }
   ],
   "source": [
    "x = np.arange(len(performance))\n",
    "width = 0.3\n",
    "metric_name = 'mean_absolute_error'\n",
    "metric_index = lstm_model.metrics_names.index('mean_absolute_error')\n",
    "val_mae = [v[metric_index] for v in val_performance.values()]\n",
    "test_mae = [v[metric_index] for v in performance.values()]\n",
    "\n",
    "plt.ylabel('mean_absolute_error [T (degC), normalized]')\n",
    "plt.bar(x - 0.17, val_mae, width, label='Validation')\n",
    "plt.bar(x + 0.17, test_mae, width, label='Test')\n",
    "plt.xticks(ticks=x, labels=performance.keys(),\n",
    "           rotation=45)\n",
    "_ = plt.legend()"
   ]
  },
  {
   "cell_type": "code",
   "execution_count": 50,
   "metadata": {},
   "outputs": [
    {
     "name": "stdout",
     "output_type": "stream",
     "text": [
      "Baseline    : 0.1727\n",
      "Linear      : 2.5672\n",
      "Dense       : 0.5392\n",
      "LSTM        : 0.3540\n"
     ]
    }
   ],
   "source": [
    "for name, value in performance.items():\n",
    "    print(f'{name:12s}: {value[1]:0.4f}')  "
   ]
  },
  {
   "cell_type": "code",
   "execution_count": null,
   "metadata": {},
   "outputs": [],
   "source": [
    "class ResidualWrapper(tf.keras.Model):\n",
    "    def __init__(self, model):\n",
    "        super().__init__()\n",
    "        self.model = model\n",
    "\n",
    "    def call(self, inputs, *args, **kwargs):\n",
    "        delta = self.model(inputs, *args, **kwargs)\n",
    "\n",
    "        # The prediction for each timestep is the input\n",
    "        # from the previous time step plus the delta\n",
    "        # calculated by the model.\n",
    "        return inputs + delta"
   ]
  },
  {
   "cell_type": "code",
   "execution_count": null,
   "metadata": {},
   "outputs": [],
   "source": []
  }
 ],
 "metadata": {
  "kernelspec": {
   "display_name": "myvenv",
   "language": "python",
   "name": "myvenv"
  },
  "language_info": {
   "codemirror_mode": {
    "name": "ipython",
    "version": 3
   },
   "file_extension": ".py",
   "mimetype": "text/x-python",
   "name": "python",
   "nbconvert_exporter": "python",
   "pygments_lexer": "ipython3",
   "version": "3.8.2"
  }
 },
 "nbformat": 4,
 "nbformat_minor": 4
}
